{
 "cells": [
  {
   "cell_type": "code",
   "execution_count": 2,
   "id": "ae59c830",
   "metadata": {},
   "outputs": [],
   "source": [
    "import requests\n",
    "import os\n",
    "import json\n",
    "import pandas as pd"
   ]
  },
  {
   "cell_type": "code",
   "execution_count": 3,
   "id": "485b5012",
   "metadata": {},
   "outputs": [
    {
     "data": {
      "text/plain": [
       "environ{'TERM_PROGRAM': 'Apple_Terminal',\n",
       "        'SHELL': '/bin/zsh',\n",
       "        'TERM': 'xterm-color',\n",
       "        'TMPDIR': '/var/folders/hj/vg30rj451w138plp7q6mry1c0000gn/T/',\n",
       "        'CONDA_SHLVL': '1',\n",
       "        'CONDA_PROMPT_MODIFIER': '(base) ',\n",
       "        'TERM_PROGRAM_VERSION': '440',\n",
       "        'TERM_SESSION_ID': 'F0D0FE7B-A3E6-4A19-A4D0-A3D151297D9B',\n",
       "        'USER': 'nayanayeshlur',\n",
       "        'CONDA_EXE': '/Users/nayanayeshlur/opt/anaconda3/bin/conda',\n",
       "        'SSH_AUTH_SOCK': '/private/tmp/com.apple.launchd.v9mViRqmdV/Listeners',\n",
       "        '_CE_CONDA': '',\n",
       "        'BEARER_TOKEN': 'AAAAAAAAAAAAAAAAAAAAAKC%2FTQEAAAAASWAykZFajGcKzsK9ZUrWkAGzcuU%3D1NyIrvwpFQOUtM1T8BVHP1VaaCzqHgHxbr1lggJ5BQUZ8CfIIR',\n",
       "        'PATH': '/Users/nayanayeshlur/opt/anaconda3/bin:/Users/nayanayeshlur/opt/anaconda3/condabin:/usr/local/bin:/usr/bin:/bin:/usr/sbin:/sbin',\n",
       "        'CONDA_PREFIX': '/Users/nayanayeshlur/opt/anaconda3',\n",
       "        '__CFBundleIdentifier': 'com.apple.Terminal',\n",
       "        'PWD': '/Users/nayanayeshlur',\n",
       "        'LANG': 'en_US.UTF-8',\n",
       "        'XPC_FLAGS': '0x0',\n",
       "        '_CE_M': '',\n",
       "        'XPC_SERVICE_NAME': '0',\n",
       "        'SHLVL': '2',\n",
       "        'HOME': '/Users/nayanayeshlur',\n",
       "        'CONDA_PYTHON_EXE': '/Users/nayanayeshlur/opt/anaconda3/bin/python',\n",
       "        'LOGNAME': 'nayanayeshlur',\n",
       "        'CONDA_DEFAULT_ENV': 'base',\n",
       "        '_': '/Users/nayanayeshlur/opt/anaconda3/bin/jupyter-notebook',\n",
       "        'JPY_PARENT_PID': '47386',\n",
       "        'CLICOLOR': '1',\n",
       "        'PAGER': 'cat',\n",
       "        'GIT_PAGER': 'cat',\n",
       "        'MPLBACKEND': 'module://ipykernel.pylab.backend_inline'}"
      ]
     },
     "execution_count": 3,
     "metadata": {},
     "output_type": "execute_result"
    }
   ],
   "source": [
    "os.environ"
   ]
  },
  {
   "cell_type": "code",
   "execution_count": 3,
   "id": "cda8de2f",
   "metadata": {},
   "outputs": [],
   "source": [
    "def connect_to_twitter():\n",
    "    bearer_token = os.environ.get('BEARER_TOKEN')\n",
    "    return {\"Authorization\" : \"Bearer {}\".format(bearer_token)}"
   ]
  },
  {
   "cell_type": "code",
   "execution_count": 4,
   "id": "c89a6986",
   "metadata": {},
   "outputs": [],
   "source": [
    "headers = connect_to_twitter()"
   ]
  },
  {
   "cell_type": "code",
   "execution_count": 5,
   "id": "09227507",
   "metadata": {},
   "outputs": [],
   "source": [
    "params = {\n",
    "    'query': query,\n",
    "    'expansions': 'author_id,referenced_tweets.id,geo.place_id,in_reply_to_user_id,referenced_tweets.id.author_id',\n",
    "    'tweet.fields': 'created_at,author_id,lang,entities,geo,referenced_tweets,in_reply_to_user_id,public_metrics', \n",
    "    'user.fields': 'username',\n",
    "    \n",
    "    \n",
    "    'start_time': start_time,\n",
    "    'end_time': end_time,\n",
    "    'max_results': max_results,\n",
    "    \n",
    "}"
   ]
  },
  {
   "cell_type": "code",
   "execution_count": 18,
   "id": "45ff735f",
   "metadata": {},
   "outputs": [],
   "source": [
    "def make_request(headers):\n",
    "    url = \"https://api.twitter.com/2/tweets/search/recent\" \n",
    "    query_params = {'query': search_term, 'space.fields': 'title,created_at', 'expansions': 'creator_id'}\n",
    "    params = \"query=from:TwitterDev\"\n",
    "    \n",
    "    params = {'query':\"TwitterDev\", 'expansions':'geo.place_id'}\n",
    "    return requests.request(\"GET\", url, params=params, headers=headers).json()"
   ]
  },
  {
   "cell_type": "code",
   "execution_count": 19,
   "id": "0dd9c84a",
   "metadata": {},
   "outputs": [
    {
     "name": "stdout",
     "output_type": "stream",
     "text": [
      "{'errors': [{'parameters': {'expansions': ['geo.place_name']}, 'message': 'The `expansions` query parameter value [geo.place_name] is not one of [author_id,referenced_tweets.id,referenced_tweets.id.author_id,entities.mentions.username,attachments.poll_ids,attachments.media_keys,in_reply_to_user_id,geo.place_id]'}], 'title': 'Invalid Request', 'detail': 'One or more parameters to your request was invalid.', 'type': 'https://api.twitter.com/2/problems/invalid-request'}\n"
     ]
    }
   ],
   "source": [
    "response = make_request(headers)\n",
    "print(response)"
   ]
  },
  {
   "cell_type": "code",
   "execution_count": null,
   "id": "4c8f5fc7",
   "metadata": {},
   "outputs": [],
   "source": []
  }
 ],
 "metadata": {
  "kernelspec": {
   "display_name": "Python 3",
   "language": "python",
   "name": "python3"
  },
  "language_info": {
   "codemirror_mode": {
    "name": "ipython",
    "version": 3
   },
   "file_extension": ".py",
   "mimetype": "text/x-python",
   "name": "python",
   "nbconvert_exporter": "python",
   "pygments_lexer": "ipython3",
   "version": "3.8.8"
  }
 },
 "nbformat": 4,
 "nbformat_minor": 5
}
