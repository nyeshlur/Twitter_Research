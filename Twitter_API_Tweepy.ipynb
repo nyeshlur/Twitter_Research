{
 "cells": [
  {
   "cell_type": "code",
   "execution_count": 1,
   "id": "d13a0dd2",
   "metadata": {},
   "outputs": [],
   "source": [
    "import tweepy\n",
    "import configparser\n",
    "import pandas as pd"
   ]
  },
  {
   "cell_type": "code",
   "execution_count": 2,
   "id": "48c18ae9",
   "metadata": {},
   "outputs": [],
   "source": [
    "# read configs\n",
    "config = configparser.ConfigParser()\n",
    "config.read('config.ini')\n",
    "\n",
    "api_key = config['twitter']['api_key']\n",
    "api_key_secret = config['twitter']['api_key_secret']\n",
    "\n",
    "access_token = config['twitter']['access_token']\n",
    "access_token_secret = config['twitter']['access_token_secret']"
   ]
  },
  {
   "cell_type": "code",
   "execution_count": 3,
   "id": "8f5aa609",
   "metadata": {},
   "outputs": [],
   "source": [
    "#authentication\n",
    "auth = tweepy.OAuthHandler(api_key, api_key_secret)"
   ]
  },
  {
   "cell_type": "code",
   "execution_count": 4,
   "id": "e954ebd1",
   "metadata": {},
   "outputs": [],
   "source": [
    "auth.set_access_token(access_token, access_token_secret)"
   ]
  },
  {
   "cell_type": "code",
   "execution_count": 5,
   "id": "81244bf3",
   "metadata": {},
   "outputs": [],
   "source": [
    "api = tweepy.API(auth, wait_on_rate_limit=True)"
   ]
  },
  {
   "cell_type": "code",
   "execution_count": 6,
   "id": "98296213",
   "metadata": {},
   "outputs": [],
   "source": [
    "user tweets\n",
    "user = 'NayanaYeshlur'\n",
    "limit = 10\n",
    "tweets = api.user_timeline(screen_name = user, count = limit, tweet_mode = 'extended')"
   ]
  },
  {
   "cell_type": "code",
   "execution_count": 7,
   "id": "7cfa67de",
   "metadata": {},
   "outputs": [],
   "source": [
    "for tweet in tweets:\n",
    "    print(tweet.full_text)"
   ]
  },
  {
   "cell_type": "code",
   "execution_count": 8,
   "id": "b679b927",
   "metadata": {},
   "outputs": [],
   "source": [
    "# search tweets\n",
    "keyword = 'spaceneedle'\n",
    "limit = 10\n",
    "tweets = api.search_tweets(q = keyword, count = limit, tweet_mode = 'extended')"
   ]
  },
  {
   "cell_type": "code",
   "execution_count": 9,
   "id": "2610e40a",
   "metadata": {},
   "outputs": [],
   "source": [
    "for tweet in tweets:\n",
    "    print(tweet.full_text)"
   ]
  },
  {
   "cell_type": "code",
   "execution_count": 31,
   "id": "549f7ef8",
   "metadata": {},
   "outputs": [],
   "source": [
    "# search tweets\n",
    "keyword = ''\n",
    "# keyword = [\"#covid19\", \"2020\", \"lockdown\"]\n",
    "limit = 10\n",
    "# date_since = \"2020-05-21\"\n",
    "# place = \"20.5937,78.9629,3000km\"\n",
    "place = \"47.6600,-122.4172,3km\"\n",
    "# place = \"40.7962,-73.9556,3000km\"\n",
    "# since = date_since \n",
    "tweets = api.search_tweets(q = keyword, geocode = place, count = limit, tweet_mode = 'extended')"
   ]
  },
  {
   "cell_type": "code",
   "execution_count": 34,
   "id": "5c02b7ae",
   "metadata": {},
   "outputs": [
    {
     "name": "stdout",
     "output_type": "stream",
     "text": [
      "created_at: 2022-02-14 01:48:47+00:00\n",
      "user: scottculkin\n",
      "tweet text: Wrapping up fun day in #Seattle. https://t.co/nJEiL6gwbH\n",
      "geo_location: San Diego\n",
      "\n",
      "\n",
      "created_at: 2022-02-14 01:01:39+00:00\n",
      "user: skoisirius\n",
      "tweet text: Sippin'👊\n",
      "\n",
      "#PinkyOut https://t.co/Wou2QQCc5F\n",
      "geo_location: Sirius B\n",
      "\n",
      "\n",
      "created_at: 2022-02-13 21:41:51+00:00\n",
      "user: oranv\n",
      "tweet text: The Locks’ spillway dam is one of the local landmarks featured on PugetPass cards (pre-ORCA regional transit pass). https://t.co/PaemnF3EGX\n",
      "geo_location: The Marine Layer\n",
      "\n",
      "\n",
      "created_at: 2022-02-13 21:31:59+00:00\n",
      "user: oranv\n",
      "tweet text: Boat elevator powered mostly by gravity https://t.co/x5YmOwUJ5e\n",
      "geo_location: The Marine Layer\n",
      "\n",
      "\n",
      "created_at: 2022-02-13 21:25:44+00:00\n",
      "user: oranv\n",
      "tweet text: I’m here now but 2009 photo https://t.co/seKBHqML3d\n",
      "geo_location: The Marine Layer\n",
      "\n",
      "\n",
      "created_at: 2022-02-13 02:33:42+00:00\n",
      "user: AlexReynolds\n",
      "tweet text: Absolutely amazing day to go for a bike ride in Seattle. Reminds me a bit of what makes this place special. @ Magnolia, Seattle https://t.co/zWwtgSW9lm\n",
      "geo_location: Seattle, Washington\n",
      "\n",
      "\n",
      "created_at: 2022-02-13 00:47:47+00:00\n",
      "user: CedSaidZed\n",
      "tweet text: At Discovery Park… absolutely gorgeous #seattle day today. https://t.co/52dP4AW4F9\n",
      "geo_location: Seattle, WA\n",
      "\n",
      "\n",
      "created_at: 2022-02-13 00:43:51+00:00\n",
      "user: amandapalumbo\n",
      "tweet text: Gorgeous day at Discovery Park. https://t.co/TmHkEhGlUJ\n",
      "geo_location: Seattle, WA\n",
      "\n",
      "\n",
      "created_at: 2022-02-12 17:29:46+00:00\n",
      "user: Greentara07591\n",
      "tweet text: So many opportunities for amazing pictures https://t.co/9RSmg9F1in\n",
      "geo_location: Seattle, WA\n",
      "\n",
      "\n",
      "created_at: 2022-02-12 08:37:24+00:00\n",
      "user: asewingdiva\n",
      "tweet text: Just posted a photo @ Paradiso Sewing Lounge https://t.co/ZFnJjLTNsv\n",
      "geo_location: Seattle,Wa.\n",
      "\n",
      "\n"
     ]
    }
   ],
   "source": [
    "for tweet in tweets:\n",
    "    print(\"created_at: {}\\nuser: {}\\ntweet text: {}\\ngeo_location: {}\".\n",
    "            format(tweet.created_at, tweet.user.screen_name, tweet.full_text, tweet.user.location))\n",
    "    print(\"\\n\")\n",
    "    # tweet.user.location will give you the general location"
   ]
  },
  {
   "cell_type": "code",
   "execution_count": 8,
   "id": "bdc2c1c9",
   "metadata": {},
   "outputs": [],
   "source": [
    "class Listener(tweepy.Stream):\n",
    "    def on_status(self, status):\n",
    "        print(status.user.screen_name + \": \" + status.text)"
   ]
  },
  {
   "cell_type": "code",
   "execution_count": 9,
   "id": "c6af3506",
   "metadata": {},
   "outputs": [],
   "source": [
    "stream_tweet = Listener(api_key, api_key_secret, access_token, access_token_secret)"
   ]
  },
  {
   "cell_type": "code",
   "execution_count": 10,
   "id": "90d9d500",
   "metadata": {
    "scrolled": true
   },
   "outputs": [],
   "source": [
    "# GEOBOX_GERMANY = [5.0770049095, 47.2982950435, 15.0403900146, 54.9039819757]\n",
    "Seattle_Bounding_Box = [-122.48, 47.41, -122.16, 47.79]\n",
    "stream_tweet.filter(locations = Seattle_Bounding_Box)"
   ]
  },
  {
   "cell_type": "code",
   "execution_count": null,
   "id": "3ece9dbf",
   "metadata": {},
   "outputs": [],
   "source": []
  }
 ],
 "metadata": {
  "kernelspec": {
   "display_name": "Python 3",
   "language": "python",
   "name": "python3"
  },
  "language_info": {
   "codemirror_mode": {
    "name": "ipython",
    "version": 3
   },
   "file_extension": ".py",
   "mimetype": "text/x-python",
   "name": "python",
   "nbconvert_exporter": "python",
   "pygments_lexer": "ipython3",
   "version": "3.8.8"
  }
 },
 "nbformat": 4,
 "nbformat_minor": 5
}
