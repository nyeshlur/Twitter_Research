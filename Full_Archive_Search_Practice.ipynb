{
 "cells": [
  {
   "cell_type": "code",
   "execution_count": 1,
   "id": "b11c8f29",
   "metadata": {},
   "outputs": [],
   "source": [
    "import tweepy\n",
    "import configparser\n",
    "import pandas as pd\n",
    "from twitter_authentication import bearer_token\n",
    "import time"
   ]
  },
  {
   "cell_type": "code",
   "execution_count": 2,
   "id": "449da796",
   "metadata": {},
   "outputs": [],
   "source": [
    "# read configs\n",
    "config = configparser.ConfigParser()\n",
    "config.read('config.ini')\n",
    "\n",
    "api_key = config['twitter']['api_key']\n",
    "api_key_secret = config['twitter']['api_key_secret']\n",
    "\n",
    "access_token = config['twitter']['access_token']\n",
    "access_token_secret = config['twitter']['access_token_secret']\n",
    "\n",
    "client = tweepy.Client(bearer_token, wait_on_rate_limit = True)"
   ]
  },
  {
   "cell_type": "code",
   "execution_count": 3,
   "id": "8732e8bc",
   "metadata": {},
   "outputs": [],
   "source": [
    "hoax_tweets = []\n",
    "for response in tweepy.Paginator(client.search_all_tweets, \n",
    "                                 query = 'seattle -is:retweet lang:en',\n",
    "                                 user_fields = ['username', 'public_metrics', 'description', 'location'],\n",
    "                                 tweet_fields = ['created_at', 'geo', 'public_metrics', 'text'],\n",
    "                                 expansions = 'author_id',\n",
    "                                 start_time = '2021-03-01T00:00:00Z',\n",
    "                                 end_time = '2021-03-21T00:00:00Z',\n",
    "                              max_results=100, limit = 1):\n",
    "    time.sleep(1)\n",
    "    hoax_tweets.append(response)"
   ]
  },
  {
   "cell_type": "code",
   "execution_count": 4,
   "id": "97b25b8b",
   "metadata": {},
   "outputs": [
    {
     "data": {
      "text/plain": [
       "<Tweet id=1373424040287875073 text=@Paradisitys Hope Seattle don't lose momentum now though, and hope they fry to 2nd/3rd place at least. Maybe even 1st if they somehow pull one over Optic and 3-0/3-1 everyone else>"
      ]
     },
     "execution_count": 4,
     "metadata": {},
     "output_type": "execute_result"
    }
   ],
   "source": [
    "hoax_tweets[0].data[0]"
   ]
  },
  {
   "cell_type": "code",
   "execution_count": 5,
   "id": "02147450",
   "metadata": {},
   "outputs": [],
   "source": [
    "result = []\n",
    "user_dict = {}\n",
    "for response in hoax_tweets:\n",
    "    for user in response.includes['users']:\n",
    "        user_dict[user.id] = {'username': user.username, \n",
    "                              'followers': user.public_metrics['followers_count'],\n",
    "                              'tweets': user.public_metrics['tweet_count'],\n",
    "                              'description': user.description,\n",
    "                              'location': user.location\n",
    "                             }\n",
    "    for tweet in response.data:\n",
    "        author_info = user_dict[tweet.author_id]\n",
    "        result.append({'author_id': tweet.author_id,\n",
    "                       'author_location': author_info['location'],\n",
    "                       'text': tweet.text,\n",
    "                       'created_at': tweet.created_at,\n",
    "                       'geo': tweet.geo\n",
    "                      })\n",
    "\n",
    "df = pd.DataFrame(result)\n"
   ]
  },
  {
   "cell_type": "code",
   "execution_count": 6,
   "id": "52a24095",
   "metadata": {},
   "outputs": [
    {
     "name": "stdout",
     "output_type": "stream",
     "text": [
      "              author_id    author_location  \\\n",
      "0   1167036175397396480               None   \n",
      "1             844283084        Seattle, WA   \n",
      "2   1190149526167916544  Pennsylvania, USA   \n",
      "3            2570624584               None   \n",
      "4             127137318        Seattle, WA   \n",
      "..                  ...                ...   \n",
      "95           2895745954             Philly   \n",
      "96  1135329063525072901    Chattanooga, TN   \n",
      "97  1025914937225486336               None   \n",
      "98            189590587               None   \n",
      "99  1264361875254530048         Queens, NY   \n",
      "\n",
      "                                                 text  \\\n",
      "0   @Paradisitys Hope Seattle don't lose momentum ...   \n",
      "1   What's new on the Happy Shaadi blog? A whole n...   \n",
      "2   bathroom stall in seattle - 1:31 \\n\\n(If you u...   \n",
      "3   Loved @TheDoubleclicks playing for @dw_seattle...   \n",
      "4        @chris_andre1 @Mitch_Seattle Best answer yet   \n",
      "..                                                ...   \n",
      "95  Really good series out of Seattle they could b...   \n",
      "96  @SeattleSurge @DallasEmpire This why ima Seatt...   \n",
      "97  @theProgEqualist AG's in multiple jurisdiction...   \n",
      "98  @DexertoIntel The Dallas v Seattle was so good...   \n",
      "99  @JiunweiC Hello Jiunwei. Thank you for your re...   \n",
      "\n",
      "                  created_at                               geo  \n",
      "0  2021-03-20 23:59:42+00:00                              None  \n",
      "1  2021-03-20 23:59:23+00:00                              None  \n",
      "2  2021-03-20 23:59:08+00:00                              None  \n",
      "3  2021-03-20 23:59:00+00:00                              None  \n",
      "4  2021-03-20 23:59:00+00:00  {'place_id': 'a96f188f5de647b5'}  \n",
      "..                       ...                               ...  \n",
      "95 2021-03-20 23:44:06+00:00                              None  \n",
      "96 2021-03-20 23:44:04+00:00                              None  \n",
      "97 2021-03-20 23:43:50+00:00                              None  \n",
      "98 2021-03-20 23:43:50+00:00                              None  \n",
      "99 2021-03-20 23:43:46+00:00                              None  \n",
      "\n",
      "[100 rows x 5 columns]\n"
     ]
    }
   ],
   "source": [
    "print(df)"
   ]
  },
  {
   "cell_type": "code",
   "execution_count": 7,
   "id": "716dfbca",
   "metadata": {},
   "outputs": [],
   "source": [
    "df.to_csv('test.csv', encoding='utf-8', index=False)"
   ]
  },
  {
   "cell_type": "code",
   "execution_count": null,
   "id": "ea7feb22",
   "metadata": {},
   "outputs": [],
   "source": []
  }
 ],
 "metadata": {
  "kernelspec": {
   "display_name": "Python 3",
   "language": "python",
   "name": "python3"
  },
  "language_info": {
   "codemirror_mode": {
    "name": "ipython",
    "version": 3
   },
   "file_extension": ".py",
   "mimetype": "text/x-python",
   "name": "python",
   "nbconvert_exporter": "python",
   "pygments_lexer": "ipython3",
   "version": "3.8.8"
  }
 },
 "nbformat": 4,
 "nbformat_minor": 5
}
